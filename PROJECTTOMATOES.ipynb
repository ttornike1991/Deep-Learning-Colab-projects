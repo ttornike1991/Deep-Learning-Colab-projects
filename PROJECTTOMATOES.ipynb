{
  "nbformat": 4,
  "nbformat_minor": 0,
  "metadata": {
    "colab": {
      "provenance": [],
      "collapsed_sections": [],
      "mount_file_id": "1UUrtjB_B0A0Fzb8hE1QIfq8_ysdd-mkn",
      "authorship_tag": "ABX9TyO0nJEalcQkfMMIP+QyUhCX",
      "include_colab_link": true
    },
    "kernelspec": {
      "name": "python3",
      "display_name": "Python 3"
    },
    "language_info": {
      "name": "python"
    },
    "accelerator": "GPU"
  },
  "cells": [
    {
      "cell_type": "markdown",
      "metadata": {
        "id": "view-in-github",
        "colab_type": "text"
      },
      "source": [
        "<a href=\"https://colab.research.google.com/github/ttornike1991/Deep-Learning-Colab-projects/blob/main/PROJECTTOMATOES.ipynb\" target=\"_parent\"><img src=\"https://colab.research.google.com/assets/colab-badge.svg\" alt=\"Open In Colab\"/></a>"
      ]
    },
    {
      "cell_type": "code",
      "execution_count": null,
      "metadata": {
        "id": "LAnfeuHHULgT"
      },
      "outputs": [],
      "source": [
        "!nvidia-smi"
      ]
    },
    {
      "cell_type": "code",
      "source": [
        "import tensorflow as tf\n",
        "tf.__version__"
      ],
      "metadata": {
        "colab": {
          "base_uri": "https://localhost:8080/",
          "height": 35
        },
        "id": "uWwdAEtsXw4s",
        "outputId": "a9a4cb34-5524-4294-8ef1-acada3e0ad0b"
      },
      "execution_count": 12,
      "outputs": [
        {
          "output_type": "execute_result",
          "data": {
            "text/plain": [
              "'2.3.0'"
            ],
            "application/vnd.google.colaboratory.intrinsic+json": {
              "type": "string"
            }
          },
          "metadata": {},
          "execution_count": 12
        }
      ]
    },
    {
      "cell_type": "code",
      "source": [
        "#import libraries\n",
        "from tensorflow import keras \n",
        "from tensorflow.keras.layers  import Input , Lambda , Dense, Flatten\n",
        "from tensorflow.keras.models import Model\n",
        "from tensorflow.keras.applications.inception_v3 import InceptionV3\n",
        "#from keras.applications.vgg16 import VGG16\n",
        "from tensorflow.keras.applications.inception_v3 import preprocess_input\n",
        "from tensorflow.keras.preprocessing import image\n",
        "from tensorflow.keras.preprocessing.image import ImageDataGenerator,load_img\n",
        "from tensorflow.keras.models import Sequential\n",
        "import numpy as np  \n",
        "from glob import glob\n",
        "\n",
        "\n",
        " \n",
        "\n",
        "\n"
      ],
      "metadata": {
        "id": "rHntE1XvX9Ej"
      },
      "execution_count": 18,
      "outputs": []
    },
    {
      "cell_type": "code",
      "source": [
        "IMAGE_SIZE = [224,224]\n",
        "\n",
        "train_path='/content/drive/MyDrive/New Plant Diseases Dataset(Augmented)/train'\n",
        "valid_path='/content/drive/MyDrive/New Plant Diseases Dataset(Augmented)/valid'"
      ],
      "metadata": {
        "id": "GGOnGqwPYR7k"
      },
      "execution_count": 19,
      "outputs": []
    },
    {
      "cell_type": "code",
      "source": [
        "inception=InceptionV3(input_shape=IMAGE_SIZE +[3],weights='imagenet',include_top=False)"
      ],
      "metadata": {
        "colab": {
          "base_uri": "https://localhost:8080/"
        },
        "id": "OkdVsDsgkT7o",
        "outputId": "2df658f5-9289-4256-c32a-b33604afb209"
      },
      "execution_count": 20,
      "outputs": [
        {
          "output_type": "stream",
          "name": "stdout",
          "text": [
            "Downloading data from https://storage.googleapis.com/tensorflow/keras-applications/inception_v3/inception_v3_weights_tf_dim_ordering_tf_kernels_notop.h5\n",
            "87916544/87910968 [==============================] - 1s 0us/step\n"
          ]
        }
      ]
    },
    {
      "cell_type": "code",
      "source": [
        "for layer in inception.layers:\n",
        "  layer.trainable=False"
      ],
      "metadata": {
        "id": "CS6RJhXTlIhs"
      },
      "execution_count": 21,
      "outputs": []
    },
    {
      "cell_type": "code",
      "source": [
        "folders=glob('/content/drive/MyDrive/New Plant Diseases Dataset(Augmented)/train/*')"
      ],
      "metadata": {
        "id": "U_WegBMzngLX"
      },
      "execution_count": 22,
      "outputs": []
    },
    {
      "cell_type": "code",
      "source": [
        "folders"
      ],
      "metadata": {
        "colab": {
          "base_uri": "https://localhost:8080/"
        },
        "id": "702n-ZfSnoSF",
        "outputId": "6e385935-2cb1-44c1-a043-786f639b4aea"
      },
      "execution_count": 23,
      "outputs": [
        {
          "output_type": "execute_result",
          "data": {
            "text/plain": [
              "['/content/drive/MyDrive/New Plant Diseases Dataset(Augmented)/train/Tomato___Spider_mites Two-spotted_spider_mite',\n",
              " '/content/drive/MyDrive/New Plant Diseases Dataset(Augmented)/train/Tomato___Leaf_Mold',\n",
              " '/content/drive/MyDrive/New Plant Diseases Dataset(Augmented)/train/Tomato___Tomato_mosaic_virus',\n",
              " '/content/drive/MyDrive/New Plant Diseases Dataset(Augmented)/train/Tomato___Early_blight',\n",
              " '/content/drive/MyDrive/New Plant Diseases Dataset(Augmented)/train/Tomato___Septoria_leaf_spot',\n",
              " '/content/drive/MyDrive/New Plant Diseases Dataset(Augmented)/train/Tomato___Late_blight',\n",
              " '/content/drive/MyDrive/New Plant Diseases Dataset(Augmented)/train/Tomato___Bacterial_spot',\n",
              " '/content/drive/MyDrive/New Plant Diseases Dataset(Augmented)/train/Tomato___Target_Spot',\n",
              " '/content/drive/MyDrive/New Plant Diseases Dataset(Augmented)/train/Tomato___healthy',\n",
              " '/content/drive/MyDrive/New Plant Diseases Dataset(Augmented)/train/Tomato___Tomato_Yellow_Leaf_Curl_Virus']"
            ]
          },
          "metadata": {},
          "execution_count": 23
        }
      ]
    },
    {
      "cell_type": "code",
      "source": [
        "x=Flatten()(inception.output)"
      ],
      "metadata": {
        "id": "jzpszqOcnvC9"
      },
      "execution_count": 24,
      "outputs": []
    },
    {
      "cell_type": "code",
      "source": [
        "prediction=Dense(len(folders),activation='softmax')(x)\n",
        "\n",
        "model = Model(inputs=inception.input,outputs=prediction)"
      ],
      "metadata": {
        "id": "TS6zkvwIn8Rt"
      },
      "execution_count": 25,
      "outputs": []
    },
    {
      "cell_type": "code",
      "source": [
        "model.summary()"
      ],
      "metadata": {
        "id": "ZRBRVVP-oUIL"
      },
      "execution_count": null,
      "outputs": []
    },
    {
      "cell_type": "code",
      "source": [
        "model.compile(\n",
        "    loss='categorical_crossentropy',\n",
        "    optimizer='adam',\n",
        "    metrics=['accuracy']\n",
        ")"
      ],
      "metadata": {
        "id": "JuUWA8GJoepK"
      },
      "execution_count": 28,
      "outputs": []
    },
    {
      "cell_type": "code",
      "source": [
        "from tensorflow.keras.preprocessing.image import ImageDataGenerator\n",
        "train_datagen=ImageDataGenerator(rescale=1./255,\n",
        "                                 shear_range=0.2,\n",
        "                                 zoom_range=0.2,\n",
        "                                 horizontal_flip=True)\n",
        "test_datagen=ImageDataGenerator(rescale=1./255)"
      ],
      "metadata": {
        "id": "IDhbSYmkpZ0X"
      },
      "execution_count": 29,
      "outputs": []
    },
    {
      "cell_type": "code",
      "source": [
        "training_set=train_datagen.flow_from_directory('/content/drive/MyDrive/New Plant Diseases Dataset(Augmented)/train',\n",
        "                                               target_size=(224,224),\n",
        "                                               batch_size=32,\n",
        "                                               class_mode='categorical')\n"
      ],
      "metadata": {
        "colab": {
          "base_uri": "https://localhost:8080/"
        },
        "id": "qXVWbyUSqx2c",
        "outputId": "990ce801-7df0-45cb-d2de-4cb6740a9918"
      },
      "execution_count": 41,
      "outputs": [
        {
          "output_type": "stream",
          "name": "stdout",
          "text": [
            "Found 18345 images belonging to 10 classes.\n"
          ]
        }
      ]
    },
    {
      "cell_type": "code",
      "source": [
        "test_set=test_datagen.flow_from_directory('/content/drive/MyDrive/New Plant Diseases Dataset(Augmented)/valid',\n",
        "                                          target_size=(224,224),\n",
        "                                          batch_size=32,\n",
        "                                          class_mode='categorical')"
      ],
      "metadata": {
        "colab": {
          "base_uri": "https://localhost:8080/"
        },
        "id": "_h65MtulrUbS",
        "outputId": "341e891e-3632-4876-c816-ff2e899e33a3"
      },
      "execution_count": 42,
      "outputs": [
        {
          "output_type": "stream",
          "name": "stdout",
          "text": [
            "Found 4585 images belonging to 10 classes.\n"
          ]
        }
      ]
    },
    {
      "cell_type": "code",
      "source": [
        "r=model.fit_generator(training_set,\n",
        "                      validation_data=test_set,\n",
        "                      epochs=1,\n",
        "                      steps_per_epoch=len(training_set),\n",
        "                      validation_steps=len(test_set)\n",
        "                      )"
      ],
      "metadata": {
        "colab": {
          "base_uri": "https://localhost:8080/"
        },
        "id": "2-YIRGfvr5Tp",
        "outputId": "2597385c-0cfb-41ca-9abe-1b0b92d5d7c7"
      },
      "execution_count": 44,
      "outputs": [
        {
          "output_type": "stream",
          "name": "stdout",
          "text": [
            "574/574 [==============================] - 370s 645ms/step - loss: 2.0560 - accuracy: 0.7898 - val_loss: 1.5808 - val_accuracy: 0.8268\n"
          ]
        }
      ]
    },
    {
      "cell_type": "code",
      "source": [
        "model.save('tomato.h5')"
      ],
      "metadata": {
        "id": "TtBI7UCTCo8x"
      },
      "execution_count": 45,
      "outputs": []
    },
    {
      "cell_type": "code",
      "source": [
        "y_pred=model.predict(test_set)"
      ],
      "metadata": {
        "id": "_l1Ei9wxFNUp"
      },
      "execution_count": 46,
      "outputs": []
    },
    {
      "cell_type": "code",
      "source": [
        "y_pred"
      ],
      "metadata": {
        "colab": {
          "base_uri": "https://localhost:8080/"
        },
        "id": "vFep7VrrFV3y",
        "outputId": "5c4531b0-99f5-460c-bf03-f038b315bdc8"
      },
      "execution_count": 47,
      "outputs": [
        {
          "output_type": "execute_result",
          "data": {
            "text/plain": [
              "array([[1.6965107e-27, 9.0240078e-18, 6.6573985e-23, ..., 1.7494750e-28,\n",
              "        1.0692515e-16, 2.1788437e-13],\n",
              "       [2.7286976e-23, 3.0769404e-12, 1.4001880e-13, ..., 2.3538785e-26,\n",
              "        9.3433672e-01, 1.8885926e-23],\n",
              "       [1.0000000e+00, 2.9291763e-17, 2.3004107e-23, ..., 1.5299946e-19,\n",
              "        9.8536907e-29, 8.2085792e-28],\n",
              "       ...,\n",
              "       [5.8169037e-24, 3.5592760e-09, 1.0000000e+00, ..., 7.4114296e-26,\n",
              "        1.7792267e-24, 2.5070213e-20],\n",
              "       [8.2847691e-05, 7.6398784e-08, 2.3515417e-12, ..., 1.0832255e-02,\n",
              "        6.7615956e-06, 6.8235992e-33],\n",
              "       [1.5099301e-23, 8.3673752e-22, 1.9313632e-30, ..., 2.1843318e-32,\n",
              "        1.4341856e-27, 4.1790075e-28]], dtype=float32)"
            ]
          },
          "metadata": {},
          "execution_count": 47
        }
      ]
    },
    {
      "cell_type": "code",
      "source": [
        "y_pred=np.argmax(y_pred,axis=1)\n",
        " "
      ],
      "metadata": {
        "id": "ucjFiJLJFZDB"
      },
      "execution_count": null,
      "outputs": []
    },
    {
      "cell_type": "code",
      "source": [
        "y_pred"
      ],
      "metadata": {
        "colab": {
          "base_uri": "https://localhost:8080/"
        },
        "id": "7hxWrAT1Fokp",
        "outputId": "aa652870-c9b1-482a-fcae-f9647e2aaa88"
      },
      "execution_count": 52,
      "outputs": [
        {
          "output_type": "execute_result",
          "data": {
            "text/plain": [
              "array([5, 8, 0, ..., 2, 4, 5])"
            ]
          },
          "metadata": {},
          "execution_count": 52
        }
      ]
    },
    {
      "cell_type": "code",
      "source": [
        "MODEL_PATH='/content/tomato.h5'\n",
        "from tensorflow.python.keras.saving.save import load_model\n",
        "model=load_model(MODEL_PATH)"
      ],
      "metadata": {
        "id": "w_5fEC06GmTF"
      },
      "execution_count": 57,
      "outputs": []
    },
    {
      "cell_type": "code",
      "source": [
        "def model_predict(img_path, model):\n",
        "    print(img_path)\n",
        "    img = image.load_img(img_path, target_size=(224, 224))\n",
        "\n",
        "    # Preprocessing the image\n",
        "    x = image.img_to_array(img)\n",
        "    x = np.true_divide(x, 255)\n",
        "    # Scaling\n",
        "    x=x/255\n",
        "    x = np.expand_dims(x, axis=0)\n",
        "   \n",
        "\n",
        "    # Be careful how your trained model deals with the input\n",
        "    # otherwise, it won't make correct prediction!\n",
        "   # x = preprocess_input(x)\n",
        "\n",
        "    preds = model.predict(x)\n",
        "    preds=np.argmax(preds, axis=1)\n",
        "    if preds==0:\n",
        "        preds=\"The Disease is Pepper__bell___Bacterial_spot\"\n",
        "    elif preds==1:\n",
        "        preds=\"The Disease is Pepper__bell___healthy\"\n",
        "    elif preds==2:\n",
        "        preds=\"The Disease is Potato___Early_blight\"\n",
        "    elif preds==3:\n",
        "        preds=\"Te Disease is Potato___healthy\"\n",
        "    elif preds==4:\n",
        "        preds=\"The Disease is Potato___Late_blight\"\n",
        "    elif preds==5:\n",
        "        preds=\"The Disease is Tomato__Tomato_mosaic_virus\"\n",
        "    elif preds==6:\n",
        "        preds=\"The Disease is Tomato__Tomato_YellowLeaf__Curl_Virus\"\n",
        "    elif preds==7:\n",
        "        preds=\"The Disease is Tomato_Bacterial_spot\"\n",
        "    elif preds==8:\n",
        "        preds=\"The Disease is Tomato_Early_blight\"\n",
        "    elif preds==9:\n",
        "        preds=\"The Disease is Pepper__bell___Bacterial_spot\"\n",
        "    elif preds==10:\n",
        "        preds=\"The Disease is Pepper__bell___Bacterial_spot\"\n",
        "    elif preds==11:\n",
        "        preds=\"The Disease is Pepper__bell___Bacterial_spot\"\n",
        "    elif preds==12:\n",
        "        preds=\"The Disease is Pepper__bell___Bacterial_spot\"\n",
        "    elif preds==13:\n",
        "        preds=\"The Disease is Pepper__bell___Bacterial_spot\"\n",
        "    \n",
        "    \n",
        "    return preds\n",
        "model_predict('/content/drive/MyDrive/New Plant Diseases Dataset(Augmented)/valid/Tomato___Late_blight/005a2c1f-4e15-49e4-9e5c-61dc3ecf9708___RS_Late.B 5096.JPG', model)\n"
      ],
      "metadata": {
        "colab": {
          "base_uri": "https://localhost:8080/",
          "height": 52
        },
        "id": "pWia0ugZFsXA",
        "outputId": "42b5631a-214a-4397-eebf-17a02d227a40"
      },
      "execution_count": 60,
      "outputs": [
        {
          "output_type": "stream",
          "name": "stdout",
          "text": [
            "/content/drive/MyDrive/New Plant Diseases Dataset(Augmented)/valid/Tomato___Late_blight/005a2c1f-4e15-49e4-9e5c-61dc3ecf9708___RS_Late.B 5096.JPG\n"
          ]
        },
        {
          "output_type": "execute_result",
          "data": {
            "text/plain": [
              "'The Disease is Tomato_Early_blight'"
            ],
            "application/vnd.google.colaboratory.intrinsic+json": {
              "type": "string"
            }
          },
          "metadata": {},
          "execution_count": 60
        }
      ]
    }
  ]
}